{
  "nbformat": 4,
  "nbformat_minor": 0,
  "metadata": {
    "colab": {
      "provenance": [],
      "authorship_tag": "ABX9TyPxylL/Ogn5KY0XFZswPhAs",
      "include_colab_link": true
    },
    "kernelspec": {
      "name": "python3",
      "display_name": "Python 3"
    },
    "language_info": {
      "name": "python"
    }
  },
  "cells": [
    {
      "cell_type": "markdown",
      "metadata": {
        "id": "view-in-github",
        "colab_type": "text"
      },
      "source": [
        "<a href=\"https://colab.research.google.com/github/Dhanashree-Selva/ai-coding-assessment-file/blob/main/ai_code_assessment_.ipynb\" target=\"_parent\"><img src=\"https://colab.research.google.com/assets/colab-badge.svg\" alt=\"Open In Colab\"/></a>"
      ]
    },
    {
      "cell_type": "code",
      "execution_count": null,
      "metadata": {
        "colab": {
          "base_uri": "https://localhost:8080/"
        },
        "id": "erS1Nbfkwk63",
        "outputId": "43732bb5-1d54-4f1a-97aa-50ea4d6c8e8f"
      },
      "outputs": [
        {
          "output_type": "stream",
          "name": "stdout",
          "text": [
            "Urgency distribution:\n",
            " urgency\n",
            "1    11\n",
            "0     9\n",
            "Name: count, dtype: int64\n"
          ]
        },
        {
          "output_type": "stream",
          "name": "stderr",
          "text": [
            "[nltk_data] Downloading package stopwords to /root/nltk_data...\n",
            "[nltk_data]   Unzipping corpora/stopwords.zip.\n"
          ]
        },
        {
          "output_type": "stream",
          "name": "stdout",
          "text": [
            "\n",
            "Model Accuracy: 0.5\n",
            "\n",
            "Classification Report:\n",
            "               precision    recall  f1-score   support\n",
            "\n",
            "      Normal       0.00      0.00      0.00         2\n",
            "      Urgent       0.50      1.00      0.67         2\n",
            "\n",
            "    accuracy                           0.50         4\n",
            "   macro avg       0.25      0.50      0.33         4\n",
            "weighted avg       0.25      0.50      0.33         4\n",
            "\n",
            "\n",
            "✅ AI model predictions saved to ai_model_submission.csv\n",
            "\n",
            "Preview:\n",
            "               sender                                     subject  \\\n",
            "0     eve@startup.io     Help required with account verification   \n",
            "1    diana@client.co            General query about subscription   \n",
            "2     eve@startup.io  Immediate support needed for billing error   \n",
            "3  alice@example.com       Urgent request: system access blocked   \n",
            "4     eve@startup.io              Question: integration with API   \n",
            "\n",
            "                                                body predicted_urgency  \n",
            "0  Do you support integration with third-party AP...            Urgent  \n",
            "1  Hi team, I am unable to log into my account si...            Urgent  \n",
            "2  Hello, I wanted to understand the pricing tier...            Urgent  \n",
            "3  Hi team, I am unable to log into my account si...            Urgent  \n",
            "4  Despite multiple attempts, I cannot reset my p...            Urgent  \n"
          ]
        },
        {
          "output_type": "stream",
          "name": "stderr",
          "text": [
            "/usr/local/lib/python3.12/dist-packages/sklearn/metrics/_classification.py:1565: UndefinedMetricWarning: Precision is ill-defined and being set to 0.0 in labels with no predicted samples. Use `zero_division` parameter to control this behavior.\n",
            "  _warn_prf(average, modifier, f\"{metric.capitalize()} is\", len(result))\n",
            "/usr/local/lib/python3.12/dist-packages/sklearn/metrics/_classification.py:1565: UndefinedMetricWarning: Precision is ill-defined and being set to 0.0 in labels with no predicted samples. Use `zero_division` parameter to control this behavior.\n",
            "  _warn_prf(average, modifier, f\"{metric.capitalize()} is\", len(result))\n",
            "/usr/local/lib/python3.12/dist-packages/sklearn/metrics/_classification.py:1565: UndefinedMetricWarning: Precision is ill-defined and being set to 0.0 in labels with no predicted samples. Use `zero_division` parameter to control this behavior.\n",
            "  _warn_prf(average, modifier, f\"{metric.capitalize()} is\", len(result))\n"
          ]
        }
      ],
      "source": [
        "import pandas as pd\n",
        "import re\n",
        "import nltk\n",
        "from sklearn.model_selection import train_test_split\n",
        "from sklearn.feature_extraction.text import TfidfVectorizer\n",
        "from sklearn.linear_model import LogisticRegression\n",
        "from sklearn.metrics import classification_report, accuracy_score\n",
        "\n",
        "# Load dataset\n",
        "df = pd.read_csv(\"68b1acd44f393_Sample_Support_Emails_Dataset (3).csv\")\n",
        "\n",
        "# Step 1: Create target labels (Urgency)\n",
        "urgent_words = [\"urgent\", \"immediate\", \"asap\", \"help\", \"blocked\", \"error\"]\n",
        "df['urgency'] = df['subject'].astype(str).str.lower().apply(\n",
        "    lambda x: 1 if any(word in x for word in urgent_words) else 0\n",
        ")\n",
        "\n",
        "print(\"Urgency distribution:\\n\", df['urgency'].value_counts())\n",
        "\n",
        "# Step 2: Preprocess text (subject + body)\n",
        "df['text'] = df['subject'].fillna('') + \" \" + df['body'].fillna('')\n",
        "\n",
        "nltk.download('stopwords')\n",
        "from nltk.corpus import stopwords\n",
        "stop_words = set(stopwords.words(\"english\"))\n",
        "\n",
        "df['clean_text'] = df['text'].astype(str).str.lower()\n",
        "df['clean_text'] = df['clean_text'].apply(lambda x: re.sub(r'[^a-z\\s]', '', x))\n",
        "df['clean_text'] = df['clean_text'].apply(lambda x: \" \".join([w for w in x.split() if w not in stop_words]))\n",
        "\n",
        "# Step 3: Train/Test Split\n",
        "X = df['clean_text']\n",
        "y = df['urgency']\n",
        "\n",
        "X_train, X_test, y_train, y_test = train_test_split(X, y, test_size=0.2, random_state=42)\n",
        "\n",
        "# Step 4: TF-IDF + Logistic Regression\n",
        "vectorizer = TfidfVectorizer(max_features=1000, stop_words=\"english\")\n",
        "X_train_tfidf = vectorizer.fit_transform(X_train)\n",
        "X_test_tfidf = vectorizer.transform(X_test)\n",
        "\n",
        "model = LogisticRegression(max_iter=200)\n",
        "model.fit(X_train_tfidf, y_train)\n",
        "\n",
        "# Step 5: Evaluation\n",
        "y_pred = model.predict(X_test_tfidf)\n",
        "\n",
        "print(\"\\nModel Accuracy:\", accuracy_score(y_test, y_pred))\n",
        "print(\"\\nClassification Report:\\n\", classification_report(y_test, y_pred, target_names=[\"Normal\", \"Urgent\"]))\n",
        "\n",
        "# Step 6: Save Predictions\n",
        "df['predicted_urgency'] = model.predict(vectorizer.transform(df['clean_text']))\n",
        "df['predicted_urgency'] = df['predicted_urgency'].map({0: \"Normal\", 1: \"Urgent\"})\n",
        "\n",
        "submission = df[['sender', 'subject', 'body', 'predicted_urgency']]\n",
        "submission.to_csv(\"ai_model_submission.csv\", index=False)\n",
        "\n",
        "print(\"\\n✅ AI model predictions saved to ai_model_submission.csv\")\n",
        "print(\"\\nPreview:\\n\", submission.head())\n"
      ]
    }
  ]
}